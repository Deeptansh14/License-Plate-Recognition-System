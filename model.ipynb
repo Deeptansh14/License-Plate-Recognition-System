{
 "cells": [
  {
   "cell_type": "code",
   "execution_count": 2,
   "id": "917999c4-0913-4a4d-9b60-8f0daad2acc4",
   "metadata": {},
   "outputs": [
    {
     "name": "stdout",
     "output_type": "stream",
     "text": [
      "Requirement already satisfied: joblib in c:\\users\\deeptansh gupta\\desktop\\sample_project\\env\\lib\\site-packages (1.4.2)\n",
      "Note: you may need to restart the kernel to use updated packages.\n"
     ]
    }
   ],
   "source": [
    "pip install joblib"
   ]
  },
  {
   "cell_type": "code",
   "execution_count": 2,
   "id": "1b1f5ff1-6dc3-4c50-8a9f-71058e6a5ff1",
   "metadata": {},
   "outputs": [],
   "source": [
    "import os\n",
    "import numpy as np\n",
    "from sklearn.svm import SVC\n",
    "from sklearn.model_selection import cross_val_score\n",
    "import joblib\n",
    "from skimage.io import imread\n",
    "from skimage.filters import threshold_otsu\n"
   ]
  },
  {
   "cell_type": "code",
   "execution_count": 3,
   "id": "74286fe4-8bfd-4e81-8632-981c21aef16b",
   "metadata": {},
   "outputs": [],
   "source": [
    "letters = [\n",
    "            '0', '1', '2', '3', '4', '5', '6', '7', '8', '9', 'A', 'B', 'C', 'D',\n",
    "            'E', 'F', 'G', 'H', 'J', 'K', 'L', 'M', 'N', 'P', 'Q', 'R', 'S', 'T',\n",
    "            'U', 'V', 'W', 'X', 'Y', 'Z'\n",
    "        ]"
   ]
  },
  {
   "cell_type": "code",
   "execution_count": 4,
   "id": "5556388d-619c-4894-ac7d-79886c0cbf4f",
   "metadata": {},
   "outputs": [],
   "source": [
    "def read_training_data(training_directory):\n",
    "    image_data = []\n",
    "    target_data = []\n",
    "    for each_letter in letters:\n",
    "        for each in range(10):\n",
    "            image_path = os.path.join(training_directory, each_letter, each_letter + '_' + str(each) + '.jpg')\n",
    "            # read each image of each character\n",
    "            img_details = imread(image_path, as_gray=True)\n",
    "            # converts each character image to binary image\n",
    "            binary_image = img_details < threshold_otsu(img_details)\n",
    "            # the 2D array of each image is flattened because the machine learning\n",
    "            # classifier requires that each sample is a 1D array\n",
    "            # therefore the 20*20 image becomes 1*400\n",
    "            # in machine learning terms that's 400 features with each pixel\n",
    "            # representing a feature\n",
    "            flat_bin_image = binary_image.reshape(-1)\n",
    "            image_data.append(flat_bin_image)\n",
    "            target_data.append(each_letter)\n",
    "\n",
    "    return (np.array(image_data), np.array(target_data))\n"
   ]
  },
  {
   "cell_type": "code",
   "execution_count": 5,
   "id": "0f3125df-b0c8-4e48-ac6d-408415729c43",
   "metadata": {},
   "outputs": [],
   "source": [
    "def cross_validation(model, num_of_fold, train_data, train_label):\n",
    "    # this uses the concept of cross validation to measure the accuracy\n",
    "    # of a model, the num_of_fold determines the type of validation\n",
    "    # e.g if num_of_fold is 4, then we are performing a 4-fold cross validation\n",
    "    # it will divide the dataset into 4 and use 1/4 of it for testing\n",
    "    # and the remaining 3/4 for the training\n",
    "    accuracy_result = cross_val_score(model, train_data, train_label,\n",
    "                                      cv=num_of_fold)\n",
    "    print(\"Cross Validation Result for \", str(num_of_fold), \" -fold\")\n",
    "\n",
    "    print(accuracy_result * 100)\n"
   ]
  },
  {
   "cell_type": "code",
   "execution_count": 10,
   "id": "02d5cf63-7cf1-4088-b2a9-d464022f0c62",
   "metadata": {},
   "outputs": [
    {
     "name": "stdout",
     "output_type": "stream",
     "text": [
      "Cross Validation Result for  4  -fold\n",
      "[ 96.47058824 100.          95.29411765  98.82352941]\n"
     ]
    },
    {
     "data": {
      "text/plain": [
       "['C:\\\\Users\\\\deeptansh gupta\\\\desktop\\\\sample_project\\\\models/svc//svc.pkl']"
      ]
     },
     "execution_count": 10,
     "metadata": {},
     "output_type": "execute_result"
    }
   ],
   "source": [
    "current_dir = os.getcwd()\n",
    "\n",
    "training_dataset_dir = os.path.join(current_dir, 'train')\n",
    "image_data, target_data = read_training_data(training_dataset_dir)\n",
    "\n",
    "# the kernel can be 'linear', 'poly' or 'rbf'\n",
    "# the probability was set to True so as to show\n",
    "# how sure the model is of it's prediction\n",
    "svc_model = SVC(kernel='linear', probability=True)\n",
    "\n",
    "cross_validation(svc_model, 4, image_data, target_data)\n",
    "\n",
    "# let's train the model with all the input data\n",
    "svc_model.fit(image_data, target_data)\n",
    "\n",
    "# we will use the joblib module to persist the model\n",
    "# into files. This means that the next time we need to\n",
    "# predict, we don't need to train the model again\n",
    "save_directory = os.path.join(current_dir, 'models/svc/')\n",
    "if not os.path.exists(save_directory):\n",
    "    os.makedirs(save_directory)\n",
    "joblib.dump(svc_model, save_directory+'/svc.pkl')"
   ]
  },
  {
   "cell_type": "code",
   "execution_count": null,
   "id": "86d74e73-edf0-47f9-a87f-207483cd591d",
   "metadata": {},
   "outputs": [],
   "source": []
  }
 ],
 "metadata": {
  "kernelspec": {
   "display_name": "Python 3 (ipykernel)",
   "language": "python",
   "name": "python3"
  },
  "language_info": {
   "codemirror_mode": {
    "name": "ipython",
    "version": 3
   },
   "file_extension": ".py",
   "mimetype": "text/x-python",
   "name": "python",
   "nbconvert_exporter": "python",
   "pygments_lexer": "ipython3",
   "version": "3.12.4"
  }
 },
 "nbformat": 4,
 "nbformat_minor": 5
}
